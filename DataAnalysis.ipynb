{
 "cells": [
  {
   "cell_type": "markdown",
   "metadata": {},
   "source": [
    "# The perception of the Afghan situation in the Social Media debate – An exploratory text mining study\n",
    "**Luigi Arminio**\n",
    "\n",
    "The end of the War in Afghanistan may be considered the most meaningful\n",
    "geopolitical event of the latest years. Due to the long duration of this war, as well as the strong inolvement of Western political actors in this conflict, the fall of Kabul and the withdrawal of the US troops from the country generated a sizeable debate in the Western context, which has resulted in a large quantity of posts concerning the end of this war released on social media platforms like Twitter.<BR>\n",
    "For this reason, I chose to explore the tweets released during the summer 2021, in the period between them 6th of August and the 25th of August.<BR>\n",
    "The data have been collected by web scraping, with the *rtweet* package and the Twitter API key permission (see the file scraping_script.R to visualize the scraping procedure). The pattern according to which data have been collected was the occurrence of the hashtag *#afghanistan* and the use of *english* language.\n",
    "    \n",
    "After that, text mining techniques have been applied on the corpus of tweets (in particular, **sentiment analysis** and **topic modeling** have been performed on the data).\n",
    "\n",
    "Down here, the code written to produce the analysis is reported.\n",
    "    \n",
    "    \n",
    "To begin with, it is necessary to load all the useful packages."
   ]
  },
  {
   "cell_type": "code",
   "execution_count": 66,
   "metadata": {},
   "outputs": [],
   "source": [
    "#***LOADING USEFUL LIBRARIES\n",
    "library(quanteda)\n",
    "library(quanteda.corpora)\n",
    "library(seededlda)\n",
    "library(lubridate)\n",
    "library(rtweet)\n",
    "library(maps)\n",
    "library(quanteda.textplots)\n",
    "library(tidytext) #to load the stop_words dataset\n",
    "library(ldatuning)\n",
    "library(topicmodels)\n",
    "library(dplyr)\n",
    "library(ggplot2)\n",
    "library(repr)"
   ]
  },
  {
   "cell_type": "code",
   "execution_count": 71,
   "metadata": {},
   "outputs": [],
   "source": [
    "#***BASIC OPERATION - DATASET LOADING AND DELETING DUPLICATES***\n",
    "#Loading the scraped datasets\n",
    "af1<-readRDS(\"afghanistan.RDS\")\n",
    "af2<-readRDS(\"afghanistan2\")\n",
    "af3<-readRDS(\"afgha3\")\n",
    "#Joining the datasets\n",
    "afghanistandf<-rbind(af1,af2)\n",
    "afghanistandf<-rbind(afghanistandf,af3)\n",
    "#Removing the duplicate rows\n",
    "afghanistandf<-unique(afghanistandf)"
   ]
  },
  {
   "cell_type": "code",
   "execution_count": 112,
   "metadata": {},
   "outputs": [
    {
     "data": {
      "text/html": [
       "210366"
      ],
      "text/latex": [
       "210366"
      ],
      "text/markdown": [
       "210366"
      ],
      "text/plain": [
       "[1] 210366"
      ]
     },
     "metadata": {},
     "output_type": "display_data"
    }
   ],
   "source": [
    "#Visualizing the length of the entire dataset\n",
    "nrow(afghanistandf)"
   ]
  },
  {
   "cell_type": "markdown",
   "metadata": {},
   "source": [
    "The entire dataset has been loaded. It is composed of 210366 units. For example purposes, I reproduced the analysis on a reduced sample (2104 units).<BR>\n",
    "To produce more accurate results, it is recommended to perform the analysis on the entire dataset.\n",
    "    "
   ]
  },
  {
   "cell_type": "code",
   "execution_count": 73,
   "metadata": {},
   "outputs": [],
   "source": [
    "#sampling numbers from 1 to the length of the dataset, to obtain the row numbers of the future sample\n",
    "rowind<- sample(1:nrow(afghanistandf),2104)"
   ]
  },
  {
   "cell_type": "code",
   "execution_count": 74,
   "metadata": {},
   "outputs": [],
   "source": [
    "#Generating the sample\n",
    "afghanistan <- afghanistandf[rowind,]"
   ]
  },
  {
   "cell_type": "markdown",
   "metadata": {},
   "source": [
    "**EXPLORATORY DATA ANALYSIS**\n",
    "<BR>\n",
    "    \n",
    "We have generated the data for our analysis. Let's visualize the columns of the dataset:"
   ]
  },
  {
   "cell_type": "code",
   "execution_count": 115,
   "metadata": {},
   "outputs": [
    {
     "data": {
      "text/html": [
       "<style>\n",
       ".list-inline {list-style: none; margin:0; padding: 0}\n",
       ".list-inline>li {display: inline-block}\n",
       ".list-inline>li:not(:last-child)::after {content: \"\\00b7\"; padding: 0 .5ex}\n",
       "</style>\n",
       "<ol class=list-inline><li>'user_id'</li><li>'status_id'</li><li>'created_at'</li><li>'screen_name'</li><li>'text'</li><li>'source'</li><li>'display_text_width'</li><li>'reply_to_status_id'</li><li>'reply_to_user_id'</li><li>'reply_to_screen_name'</li><li>'is_quote'</li><li>'is_retweet'</li><li>'favorite_count'</li><li>'retweet_count'</li><li>'quote_count'</li><li>'reply_count'</li><li>'hashtags'</li><li>'symbols'</li><li>'urls_url'</li><li>'urls_t.co'</li><li>'urls_expanded_url'</li><li>'media_url'</li><li>'media_t.co'</li><li>'media_expanded_url'</li><li>'media_type'</li><li>'ext_media_url'</li><li>'ext_media_t.co'</li><li>'ext_media_expanded_url'</li><li>'ext_media_type'</li><li>'mentions_user_id'</li><li>'mentions_screen_name'</li><li>'lang'</li><li>'quoted_status_id'</li><li>'quoted_text'</li><li>'quoted_created_at'</li><li>'quoted_source'</li><li>'quoted_favorite_count'</li><li>'quoted_retweet_count'</li><li>'quoted_user_id'</li><li>'quoted_screen_name'</li><li>'quoted_name'</li><li>'quoted_followers_count'</li><li>'quoted_friends_count'</li><li>'quoted_statuses_count'</li><li>'quoted_location'</li><li>'quoted_description'</li><li>'quoted_verified'</li><li>'retweet_status_id'</li><li>'retweet_text'</li><li>'retweet_created_at'</li><li>'retweet_source'</li><li>'retweet_favorite_count'</li><li>'retweet_retweet_count'</li><li>'retweet_user_id'</li><li>'retweet_screen_name'</li><li>'retweet_name'</li><li>'retweet_followers_count'</li><li>'retweet_friends_count'</li><li>'retweet_statuses_count'</li><li>'retweet_location'</li><li>'retweet_description'</li><li>'retweet_verified'</li><li>'place_url'</li><li>'place_name'</li><li>'place_full_name'</li><li>'place_type'</li><li>'country'</li><li>'country_code'</li><li>'geo_coords'</li><li>'coords_coords'</li><li>'bbox_coords'</li><li>'status_url'</li><li>'name'</li><li>'location'</li><li>'description'</li><li>'url'</li><li>'protected'</li><li>'followers_count'</li><li>'friends_count'</li><li>'listed_count'</li><li>'statuses_count'</li><li>'favourites_count'</li><li>'account_created_at'</li><li>'verified'</li><li>'profile_url'</li><li>'profile_expanded_url'</li><li>'account_lang'</li><li>'profile_banner_url'</li><li>'profile_background_url'</li><li>'profile_image_url'</li></ol>\n"
      ],
      "text/latex": [
       "\\begin{enumerate*}\n",
       "\\item 'user\\_id'\n",
       "\\item 'status\\_id'\n",
       "\\item 'created\\_at'\n",
       "\\item 'screen\\_name'\n",
       "\\item 'text'\n",
       "\\item 'source'\n",
       "\\item 'display\\_text\\_width'\n",
       "\\item 'reply\\_to\\_status\\_id'\n",
       "\\item 'reply\\_to\\_user\\_id'\n",
       "\\item 'reply\\_to\\_screen\\_name'\n",
       "\\item 'is\\_quote'\n",
       "\\item 'is\\_retweet'\n",
       "\\item 'favorite\\_count'\n",
       "\\item 'retweet\\_count'\n",
       "\\item 'quote\\_count'\n",
       "\\item 'reply\\_count'\n",
       "\\item 'hashtags'\n",
       "\\item 'symbols'\n",
       "\\item 'urls\\_url'\n",
       "\\item 'urls\\_t.co'\n",
       "\\item 'urls\\_expanded\\_url'\n",
       "\\item 'media\\_url'\n",
       "\\item 'media\\_t.co'\n",
       "\\item 'media\\_expanded\\_url'\n",
       "\\item 'media\\_type'\n",
       "\\item 'ext\\_media\\_url'\n",
       "\\item 'ext\\_media\\_t.co'\n",
       "\\item 'ext\\_media\\_expanded\\_url'\n",
       "\\item 'ext\\_media\\_type'\n",
       "\\item 'mentions\\_user\\_id'\n",
       "\\item 'mentions\\_screen\\_name'\n",
       "\\item 'lang'\n",
       "\\item 'quoted\\_status\\_id'\n",
       "\\item 'quoted\\_text'\n",
       "\\item 'quoted\\_created\\_at'\n",
       "\\item 'quoted\\_source'\n",
       "\\item 'quoted\\_favorite\\_count'\n",
       "\\item 'quoted\\_retweet\\_count'\n",
       "\\item 'quoted\\_user\\_id'\n",
       "\\item 'quoted\\_screen\\_name'\n",
       "\\item 'quoted\\_name'\n",
       "\\item 'quoted\\_followers\\_count'\n",
       "\\item 'quoted\\_friends\\_count'\n",
       "\\item 'quoted\\_statuses\\_count'\n",
       "\\item 'quoted\\_location'\n",
       "\\item 'quoted\\_description'\n",
       "\\item 'quoted\\_verified'\n",
       "\\item 'retweet\\_status\\_id'\n",
       "\\item 'retweet\\_text'\n",
       "\\item 'retweet\\_created\\_at'\n",
       "\\item 'retweet\\_source'\n",
       "\\item 'retweet\\_favorite\\_count'\n",
       "\\item 'retweet\\_retweet\\_count'\n",
       "\\item 'retweet\\_user\\_id'\n",
       "\\item 'retweet\\_screen\\_name'\n",
       "\\item 'retweet\\_name'\n",
       "\\item 'retweet\\_followers\\_count'\n",
       "\\item 'retweet\\_friends\\_count'\n",
       "\\item 'retweet\\_statuses\\_count'\n",
       "\\item 'retweet\\_location'\n",
       "\\item 'retweet\\_description'\n",
       "\\item 'retweet\\_verified'\n",
       "\\item 'place\\_url'\n",
       "\\item 'place\\_name'\n",
       "\\item 'place\\_full\\_name'\n",
       "\\item 'place\\_type'\n",
       "\\item 'country'\n",
       "\\item 'country\\_code'\n",
       "\\item 'geo\\_coords'\n",
       "\\item 'coords\\_coords'\n",
       "\\item 'bbox\\_coords'\n",
       "\\item 'status\\_url'\n",
       "\\item 'name'\n",
       "\\item 'location'\n",
       "\\item 'description'\n",
       "\\item 'url'\n",
       "\\item 'protected'\n",
       "\\item 'followers\\_count'\n",
       "\\item 'friends\\_count'\n",
       "\\item 'listed\\_count'\n",
       "\\item 'statuses\\_count'\n",
       "\\item 'favourites\\_count'\n",
       "\\item 'account\\_created\\_at'\n",
       "\\item 'verified'\n",
       "\\item 'profile\\_url'\n",
       "\\item 'profile\\_expanded\\_url'\n",
       "\\item 'account\\_lang'\n",
       "\\item 'profile\\_banner\\_url'\n",
       "\\item 'profile\\_background\\_url'\n",
       "\\item 'profile\\_image\\_url'\n",
       "\\end{enumerate*}\n"
      ],
      "text/markdown": [
       "1. 'user_id'\n",
       "2. 'status_id'\n",
       "3. 'created_at'\n",
       "4. 'screen_name'\n",
       "5. 'text'\n",
       "6. 'source'\n",
       "7. 'display_text_width'\n",
       "8. 'reply_to_status_id'\n",
       "9. 'reply_to_user_id'\n",
       "10. 'reply_to_screen_name'\n",
       "11. 'is_quote'\n",
       "12. 'is_retweet'\n",
       "13. 'favorite_count'\n",
       "14. 'retweet_count'\n",
       "15. 'quote_count'\n",
       "16. 'reply_count'\n",
       "17. 'hashtags'\n",
       "18. 'symbols'\n",
       "19. 'urls_url'\n",
       "20. 'urls_t.co'\n",
       "21. 'urls_expanded_url'\n",
       "22. 'media_url'\n",
       "23. 'media_t.co'\n",
       "24. 'media_expanded_url'\n",
       "25. 'media_type'\n",
       "26. 'ext_media_url'\n",
       "27. 'ext_media_t.co'\n",
       "28. 'ext_media_expanded_url'\n",
       "29. 'ext_media_type'\n",
       "30. 'mentions_user_id'\n",
       "31. 'mentions_screen_name'\n",
       "32. 'lang'\n",
       "33. 'quoted_status_id'\n",
       "34. 'quoted_text'\n",
       "35. 'quoted_created_at'\n",
       "36. 'quoted_source'\n",
       "37. 'quoted_favorite_count'\n",
       "38. 'quoted_retweet_count'\n",
       "39. 'quoted_user_id'\n",
       "40. 'quoted_screen_name'\n",
       "41. 'quoted_name'\n",
       "42. 'quoted_followers_count'\n",
       "43. 'quoted_friends_count'\n",
       "44. 'quoted_statuses_count'\n",
       "45. 'quoted_location'\n",
       "46. 'quoted_description'\n",
       "47. 'quoted_verified'\n",
       "48. 'retweet_status_id'\n",
       "49. 'retweet_text'\n",
       "50. 'retweet_created_at'\n",
       "51. 'retweet_source'\n",
       "52. 'retweet_favorite_count'\n",
       "53. 'retweet_retweet_count'\n",
       "54. 'retweet_user_id'\n",
       "55. 'retweet_screen_name'\n",
       "56. 'retweet_name'\n",
       "57. 'retweet_followers_count'\n",
       "58. 'retweet_friends_count'\n",
       "59. 'retweet_statuses_count'\n",
       "60. 'retweet_location'\n",
       "61. 'retweet_description'\n",
       "62. 'retweet_verified'\n",
       "63. 'place_url'\n",
       "64. 'place_name'\n",
       "65. 'place_full_name'\n",
       "66. 'place_type'\n",
       "67. 'country'\n",
       "68. 'country_code'\n",
       "69. 'geo_coords'\n",
       "70. 'coords_coords'\n",
       "71. 'bbox_coords'\n",
       "72. 'status_url'\n",
       "73. 'name'\n",
       "74. 'location'\n",
       "75. 'description'\n",
       "76. 'url'\n",
       "77. 'protected'\n",
       "78. 'followers_count'\n",
       "79. 'friends_count'\n",
       "80. 'listed_count'\n",
       "81. 'statuses_count'\n",
       "82. 'favourites_count'\n",
       "83. 'account_created_at'\n",
       "84. 'verified'\n",
       "85. 'profile_url'\n",
       "86. 'profile_expanded_url'\n",
       "87. 'account_lang'\n",
       "88. 'profile_banner_url'\n",
       "89. 'profile_background_url'\n",
       "90. 'profile_image_url'\n",
       "\n",
       "\n"
      ],
      "text/plain": [
       " [1] \"user_id\"                 \"status_id\"              \n",
       " [3] \"created_at\"              \"screen_name\"            \n",
       " [5] \"text\"                    \"source\"                 \n",
       " [7] \"display_text_width\"      \"reply_to_status_id\"     \n",
       " [9] \"reply_to_user_id\"        \"reply_to_screen_name\"   \n",
       "[11] \"is_quote\"                \"is_retweet\"             \n",
       "[13] \"favorite_count\"          \"retweet_count\"          \n",
       "[15] \"quote_count\"             \"reply_count\"            \n",
       "[17] \"hashtags\"                \"symbols\"                \n",
       "[19] \"urls_url\"                \"urls_t.co\"              \n",
       "[21] \"urls_expanded_url\"       \"media_url\"              \n",
       "[23] \"media_t.co\"              \"media_expanded_url\"     \n",
       "[25] \"media_type\"              \"ext_media_url\"          \n",
       "[27] \"ext_media_t.co\"          \"ext_media_expanded_url\" \n",
       "[29] \"ext_media_type\"          \"mentions_user_id\"       \n",
       "[31] \"mentions_screen_name\"    \"lang\"                   \n",
       "[33] \"quoted_status_id\"        \"quoted_text\"            \n",
       "[35] \"quoted_created_at\"       \"quoted_source\"          \n",
       "[37] \"quoted_favorite_count\"   \"quoted_retweet_count\"   \n",
       "[39] \"quoted_user_id\"          \"quoted_screen_name\"     \n",
       "[41] \"quoted_name\"             \"quoted_followers_count\" \n",
       "[43] \"quoted_friends_count\"    \"quoted_statuses_count\"  \n",
       "[45] \"quoted_location\"         \"quoted_description\"     \n",
       "[47] \"quoted_verified\"         \"retweet_status_id\"      \n",
       "[49] \"retweet_text\"            \"retweet_created_at\"     \n",
       "[51] \"retweet_source\"          \"retweet_favorite_count\" \n",
       "[53] \"retweet_retweet_count\"   \"retweet_user_id\"        \n",
       "[55] \"retweet_screen_name\"     \"retweet_name\"           \n",
       "[57] \"retweet_followers_count\" \"retweet_friends_count\"  \n",
       "[59] \"retweet_statuses_count\"  \"retweet_location\"       \n",
       "[61] \"retweet_description\"     \"retweet_verified\"       \n",
       "[63] \"place_url\"               \"place_name\"             \n",
       "[65] \"place_full_name\"         \"place_type\"             \n",
       "[67] \"country\"                 \"country_code\"           \n",
       "[69] \"geo_coords\"              \"coords_coords\"          \n",
       "[71] \"bbox_coords\"             \"status_url\"             \n",
       "[73] \"name\"                    \"location\"               \n",
       "[75] \"description\"             \"url\"                    \n",
       "[77] \"protected\"               \"followers_count\"        \n",
       "[79] \"friends_count\"           \"listed_count\"           \n",
       "[81] \"statuses_count\"          \"favourites_count\"       \n",
       "[83] \"account_created_at\"      \"verified\"               \n",
       "[85] \"profile_url\"             \"profile_expanded_url\"   \n",
       "[87] \"account_lang\"            \"profile_banner_url\"     \n",
       "[89] \"profile_background_url\"  \"profile_image_url\"      "
      ]
     },
     "metadata": {},
     "output_type": "display_data"
    }
   ],
   "source": [
    "#Visualizing the dataset variables\n",
    "colnames(afghanistan)"
   ]
  },
  {
   "cell_type": "markdown",
   "metadata": {},
   "source": [
    "We have several variables, among which the date of the tweets. Let's visualize the least and the most recent dates of our dataset, to understand the time window taken into consideration in our analysis:"
   ]
  },
  {
   "cell_type": "code",
   "execution_count": 125,
   "metadata": {},
   "outputs": [
    {
     "data": {
      "text/plain": [
       "[1] \"2021-08-06 12:22:46 UTC\" \"2021-08-25 21:02:02 UTC\""
      ]
     },
     "metadata": {},
     "output_type": "display_data"
    }
   ],
   "source": [
    "#Visualizing the oldest and the newest tweets\n",
    "c(min(afghanistan$created_at),max(afghanistan$created_at))"
   ]
  },
  {
   "cell_type": "markdown",
   "metadata": {},
   "source": [
    "The time range is between the 6th and the 25th of August. It means that the sample collected the time window of the entire dataset."
   ]
  },
  {
   "cell_type": "markdown",
   "metadata": {},
   "source": [
    "Let's visualize the geographical visualization of the tweets with a map:"
   ]
  },
  {
   "cell_type": "code",
   "execution_count": 138,
   "metadata": {},
   "outputs": [
    {
     "data": {
      "image/png": "[encoded data removed]",
      "text/plain": [
       "plot without title"
      ]
     },
     "metadata": {
      "image/png": {
       "height": 480,
       "width": 600
      }
     },
     "output_type": "display_data"
    }
   ],
   "source": [
    "#***EXPLORATORY DATA ANALYSIS - Geographic distribution of the tweets, Top hashtags, Wordcloud***\n",
    "#Visualizing the geografic distribution of the tweets, in US and in the world in general\n",
    "datafgh <- lat_lng(afghanistan)\n",
    "## Plotting boundaries\n",
    "par(mar = c(0, 0, 0, 0))\n",
    "maps::map(\"world\", lwd = .8)\n",
    "## Plotting lat and lng points ; WORLD MAP\n",
    "with(datafgh, points(lng, lat, pch = 20, cex = .75, col = rgb(0, .3, .7, .75)))\n"
   ]
  },
  {
   "cell_type": "markdown",
   "metadata": {},
   "source": [
    "As we can see, there is a relevant presence of tweets in the UK area (which is understandable, to the extent that these tweets were written in English), but also in territories that are close to Afghanistan (Pakistan, India). Some tweets also arrive from US."
   ]
  },
  {
   "cell_type": "markdown",
   "metadata": {},
   "source": [
    "Let's visualize the **most frequent hashtags**:"
   ]
  },
  {
   "cell_type": "code",
   "execution_count": 80,
   "metadata": {},
   "outputs": [
    {
     "data": {
      "text/html": [
       "<style>\n",
       ".list-inline {list-style: none; margin:0; padding: 0}\n",
       ".list-inline>li {display: inline-block}\n",
       ".list-inline>li:not(:last-child)::after {content: \"\\00b7\"; padding: 0 .5ex}\n",
       "</style>\n",
       "<ol class=list-inline><li>'#afghanistan'</li><li>'#taliban'</li><li>'#kabul'</li><li>'#pakistan'</li><li>'#biden'</li><li>'#afghanistancrisis'</li></ol>\n"
      ],
      "text/latex": [
       "\\begin{enumerate*}\n",
       "\\item '\\#afghanistan'\n",
       "\\item '\\#taliban'\n",
       "\\item '\\#kabul'\n",
       "\\item '\\#pakistan'\n",
       "\\item '\\#biden'\n",
       "\\item '\\#afghanistancrisis'\n",
       "\\end{enumerate*}\n"
      ],
      "text/markdown": [
       "1. '#afghanistan'\n",
       "2. '#taliban'\n",
       "3. '#kabul'\n",
       "4. '#pakistan'\n",
       "5. '#biden'\n",
       "6. '#afghanistancrisis'\n",
       "\n",
       "\n"
      ],
      "text/plain": [
       "[1] \"#afghanistan\"       \"#taliban\"           \"#kabul\"            \n",
       "[4] \"#pakistan\"          \"#biden\"             \"#afghanistancrisis\""
      ]
     },
     "metadata": {},
     "output_type": "display_data"
    }
   ],
   "source": [
    "#Hashtags analysis\n",
    "#momentaneous tokenization for the most frequent hashtags and users:\n",
    "testomom <- afghanistan$text\n",
    "tweet_dfm <- tokens(testomom, remove_punct = TRUE) %>%\n",
    "  dfm()\n",
    "#Extract most common hashtags\n",
    "tag_dfm <- dfm_select(tweet_dfm, pattern = \"#*\")\n",
    "toptag <- names(topfeatures(tag_dfm, 50))\n",
    "head(toptag)"
   ]
  },
  {
   "cell_type": "markdown",
   "metadata": {},
   "source": [
    "As we can see, in addition to hashtags strictly related to Afghanistan, we find \"#biden\", which should be related to the fact that people discuss about the US withdrawal, and \"#pakistan\", which can be related to the consistent presence of tweets from Pakistan. Besides, Pakistan has been defined as the \"Afghanistan's largest trade partner\"<sup>1</sup>.\n",
    "\n",
    "Let's visualize the **most frequent words**"
   ]
  },
  {
   "cell_type": "code",
   "execution_count": 81,
   "metadata": {},
   "outputs": [
    {
     "data": {
      "text/html": [
       "<style>\n",
       ".list-inline {list-style: none; margin:0; padding: 0}\n",
       ".list-inline>li {display: inline-block}\n",
       ".list-inline>li:not(:last-child)::after {content: \"\\00b7\"; padding: 0 .5ex}\n",
       "</style>\n",
       "<ol class=list-inline><li>'the'</li><li>'#afghanistan'</li><li>'to'</li><li>'in'</li><li>'of'</li><li>'and'</li><li>'a'</li><li>'is'</li><li>'for'</li><li>'#taliban'</li><li>'on'</li><li>'are'</li><li>'from'</li><li>'that'</li><li>'taliban'</li><li>'with'</li><li>'amp'</li><li>'this'</li><li>'we'</li><li>'it'</li><li>'as'</li><li>'afghanistan'</li><li>'will'</li><li>'they'</li><li>'be'</li><li>'us'</li><li>'not'</li><li>'by'</li><li>'you'</li><li>'has'</li><li>'have'</li><li>'#kabul'</li><li>'people'</li><li>'i'</li><li>'afghan'</li><li>'our'</li><li>'about'</li><li>'at'</li><li>'all'</li><li>'was'</li><li>'their'</li><li>'what'</li><li>'who'</li><li>'now'</li><li>'but'</li><li>'no'</li><li>'out'</li><li>'s'</li><li>'country'</li><li>'more'</li></ol>\n"
      ],
      "text/latex": [
       "\\begin{enumerate*}\n",
       "\\item 'the'\n",
       "\\item '\\#afghanistan'\n",
       "\\item 'to'\n",
       "\\item 'in'\n",
       "\\item 'of'\n",
       "\\item 'and'\n",
       "\\item 'a'\n",
       "\\item 'is'\n",
       "\\item 'for'\n",
       "\\item '\\#taliban'\n",
       "\\item 'on'\n",
       "\\item 'are'\n",
       "\\item 'from'\n",
       "\\item 'that'\n",
       "\\item 'taliban'\n",
       "\\item 'with'\n",
       "\\item 'amp'\n",
       "\\item 'this'\n",
       "\\item 'we'\n",
       "\\item 'it'\n",
       "\\item 'as'\n",
       "\\item 'afghanistan'\n",
       "\\item 'will'\n",
       "\\item 'they'\n",
       "\\item 'be'\n",
       "\\item 'us'\n",
       "\\item 'not'\n",
       "\\item 'by'\n",
       "\\item 'you'\n",
       "\\item 'has'\n",
       "\\item 'have'\n",
       "\\item '\\#kabul'\n",
       "\\item 'people'\n",
       "\\item 'i'\n",
       "\\item 'afghan'\n",
       "\\item 'our'\n",
       "\\item 'about'\n",
       "\\item 'at'\n",
       "\\item 'all'\n",
       "\\item 'was'\n",
       "\\item 'their'\n",
       "\\item 'what'\n",
       "\\item 'who'\n",
       "\\item 'now'\n",
       "\\item 'but'\n",
       "\\item 'no'\n",
       "\\item 'out'\n",
       "\\item 's'\n",
       "\\item 'country'\n",
       "\\item 'more'\n",
       "\\end{enumerate*}\n"
      ],
      "text/markdown": [
       "1. 'the'\n",
       "2. '#afghanistan'\n",
       "3. 'to'\n",
       "4. 'in'\n",
       "5. 'of'\n",
       "6. 'and'\n",
       "7. 'a'\n",
       "8. 'is'\n",
       "9. 'for'\n",
       "10. '#taliban'\n",
       "11. 'on'\n",
       "12. 'are'\n",
       "13. 'from'\n",
       "14. 'that'\n",
       "15. 'taliban'\n",
       "16. 'with'\n",
       "17. 'amp'\n",
       "18. 'this'\n",
       "19. 'we'\n",
       "20. 'it'\n",
       "21. 'as'\n",
       "22. 'afghanistan'\n",
       "23. 'will'\n",
       "24. 'they'\n",
       "25. 'be'\n",
       "26. 'us'\n",
       "27. 'not'\n",
       "28. 'by'\n",
       "29. 'you'\n",
       "30. 'has'\n",
       "31. 'have'\n",
       "32. '#kabul'\n",
       "33. 'people'\n",
       "34. 'i'\n",
       "35. 'afghan'\n",
       "36. 'our'\n",
       "37. 'about'\n",
       "38. 'at'\n",
       "39. 'all'\n",
       "40. 'was'\n",
       "41. 'their'\n",
       "42. 'what'\n",
       "43. 'who'\n",
       "44. 'now'\n",
       "45. 'but'\n",
       "46. 'no'\n",
       "47. 'out'\n",
       "48. 's'\n",
       "49. 'country'\n",
       "50. 'more'\n",
       "\n",
       "\n"
      ],
      "text/plain": [
       " [1] \"the\"          \"#afghanistan\" \"to\"           \"in\"           \"of\"          \n",
       " [6] \"and\"          \"a\"            \"is\"           \"for\"          \"#taliban\"    \n",
       "[11] \"on\"           \"are\"          \"from\"         \"that\"         \"taliban\"     \n",
       "[16] \"with\"         \"amp\"          \"this\"         \"we\"           \"it\"          \n",
       "[21] \"as\"           \"afghanistan\"  \"will\"         \"they\"         \"be\"          \n",
       "[26] \"us\"           \"not\"          \"by\"           \"you\"          \"has\"         \n",
       "[31] \"have\"         \"#kabul\"       \"people\"       \"i\"            \"afghan\"      \n",
       "[36] \"our\"          \"about\"        \"at\"           \"all\"          \"was\"         \n",
       "[41] \"their\"        \"what\"         \"who\"          \"now\"          \"but\"         \n",
       "[46] \"no\"           \"out\"          \"s\"            \"country\"      \"more\"        "
      ]
     },
     "metadata": {},
     "output_type": "display_data"
    }
   ],
   "source": [
    "names(topfeatures(tweet_dfm, 50))"
   ]
  },
  {
   "cell_type": "markdown",
   "metadata": {},
   "source": [
    "As we can see, the most frequent words are mainly stopwords. This is not so much informative, let's drop them and visualize a wordcloud:"
   ]
  },
  {
   "cell_type": "code",
   "execution_count": 82,
   "metadata": {
    "scrolled": false
   },
   "outputs": [
    {
     "data": {
      "image/png": "[encoded data removed]",
      "text/plain": [
       "plot without title"
      ]
     },
     "metadata": {
      "image/png": {
       "height": 420,
       "width": 420
      }
     },
     "output_type": "display_data"
    }
   ],
   "source": [
    "#Basic cleaning of the matrix for the wordcloud\n",
    "tweet_dfm2 <- dfm_remove(tweet_dfm,pattern=stopwords(\"en\")) #delete stopwords\n",
    "tweet_dfm2 <- dfm_remove(tweet_dfm2,pattern=\"#*\") #delete hashtags\n",
    "tweet_dfm2 <- dfm_remove(tweet_dfm2,pattern=\"amp\")#delete nuisance word\n",
    "#Plotting the wordcloud\n",
    "textplot_wordcloud(tweet_dfm2)\n"
   ]
  },
  {
   "cell_type": "code",
   "execution_count": 90,
   "metadata": {},
   "outputs": [
    {
     "data": {
      "text/html": [
       "<style>\n",
       ".list-inline {list-style: none; margin:0; padding: 0}\n",
       ".list-inline>li {display: inline-block}\n",
       ".list-inline>li:not(:last-child)::after {content: \"\\00b7\"; padding: 0 .5ex}\n",
       "</style>\n",
       "<ol class=list-inline><li>'taliban'</li><li>'afghanistan'</li><li>'us'</li><li>'people'</li><li>'afghan'</li><li>'now'</li><li>'s'</li><li>'country'</li><li>'kabul'</li><li>'war'</li><li>'can'</li><li>'world'</li><li>'just'</li><li>'@potus'</li><li>'biden'</li><li>'president'</li><li>'like'</li><li>'time'</li><li>'airport'</li><li>'military'</li></ol>\n"
      ],
      "text/latex": [
       "\\begin{enumerate*}\n",
       "\\item 'taliban'\n",
       "\\item 'afghanistan'\n",
       "\\item 'us'\n",
       "\\item 'people'\n",
       "\\item 'afghan'\n",
       "\\item 'now'\n",
       "\\item 's'\n",
       "\\item 'country'\n",
       "\\item 'kabul'\n",
       "\\item 'war'\n",
       "\\item 'can'\n",
       "\\item 'world'\n",
       "\\item 'just'\n",
       "\\item '@potus'\n",
       "\\item 'biden'\n",
       "\\item 'president'\n",
       "\\item 'like'\n",
       "\\item 'time'\n",
       "\\item 'airport'\n",
       "\\item 'military'\n",
       "\\end{enumerate*}\n"
      ],
      "text/markdown": [
       "1. 'taliban'\n",
       "2. 'afghanistan'\n",
       "3. 'us'\n",
       "4. 'people'\n",
       "5. 'afghan'\n",
       "6. 'now'\n",
       "7. 's'\n",
       "8. 'country'\n",
       "9. 'kabul'\n",
       "10. 'war'\n",
       "11. 'can'\n",
       "12. 'world'\n",
       "13. 'just'\n",
       "14. '@potus'\n",
       "15. 'biden'\n",
       "16. 'president'\n",
       "17. 'like'\n",
       "18. 'time'\n",
       "19. 'airport'\n",
       "20. 'military'\n",
       "\n",
       "\n"
      ],
      "text/plain": [
       " [1] \"taliban\"     \"afghanistan\" \"us\"          \"people\"      \"afghan\"     \n",
       " [6] \"now\"         \"s\"           \"country\"     \"kabul\"       \"war\"        \n",
       "[11] \"can\"         \"world\"       \"just\"        \"@potus\"      \"biden\"      \n",
       "[16] \"president\"   \"like\"        \"time\"        \"airport\"     \"military\"   "
      ]
     },
     "metadata": {},
     "output_type": "display_data"
    }
   ],
   "source": [
    "names(topfeatures(tweet_dfm2, 20))"
   ]
  },
  {
   "cell_type": "markdown",
   "metadata": {},
   "source": [
    "The main words are mostly related to Afghanistan, but also to the US politics.\n",
    "\n",
    "\n",
    "**TEXT CLEANING, STEMMING AND TOKENIZATION**\n",
    "\n",
    "To do a deeper analysis, we need to furtherly clean the text:"
   ]
  },
  {
   "cell_type": "code",
   "execution_count": 84,
   "metadata": {},
   "outputs": [],
   "source": [
    "#CLEANING THE TEXT - Deep cleaning activity\n",
    "testo<-afghanistan$text\n",
    "#us can mean more than one thing; when it is caps lock it refers to unitedstates\n",
    "testo = gsub(\"US\", \"unitedstates\", testo)  \n",
    "testo<-tolower(testo)\n",
    "testo<-iconv(testo, to=\"ASCII\", sub=\" \")\n",
    "testo <- gsub(\"amp;\", \"\", testo)# Remove \"amp;\", and \"\\n\"\" wich are not part of the tweet\n",
    "testo <- gsub(\"(RT|via)((?:\\\\b\\\\W*@\\\\w+)+)\", \"\", testo)  # Remove the \"RT\" (retweet) and usernames\n",
    "testo<- gsub(\"https?://.+\", \"\", testo)\n",
    "testo = gsub(\"http.+ |http.+$\", \" \", testo)  # Remove html links\n",
    "testo = gsub(\"http[[:alnum:]]*\", \"\", testo)\n",
    "testo = gsub(\"[[:punct:]]\", \" \", testo)  # Remove punctuation\n",
    "testo = gsub(\"[ |\\t]{2,}\", \" \", testo)  # Remove tabs\n",
    "testo = gsub(\"^ \", \"\", testo)  # Leading blanks\n",
    "testo = gsub(\" $\", \"\", testo)  # Lagging blanks\n",
    "testo = gsub(\" +\", \" \", testo) # General spaces \n",
    "#Remove most frequent and general words\n",
    "testo = gsub(\"taliban\", \"\", testo) \n",
    "testo = gsub(\"afghanistan\", \"\", testo)  \n",
    "testo = gsub(\"afghan\", \"\", testo) \n",
    "#defining the corpus\n",
    "afghanistancorpus<-corpus(testo)"
   ]
  },
  {
   "cell_type": "code",
   "execution_count": 85,
   "metadata": {},
   "outputs": [],
   "source": [
    "#Preparing the date variable to analyze the sentiment evolution over time\n",
    "date<-afghanistan$created_at \n",
    "date<-as.Date(date)"
   ]
  },
  {
   "cell_type": "markdown",
   "metadata": {},
   "source": [
    "In the successive step, we will also *stem* our corpus of tweets:"
   ]
  },
  {
   "cell_type": "code",
   "execution_count": 86,
   "metadata": {},
   "outputs": [],
   "source": [
    "#Tokeizing the corpus\n",
    "toks_afg <- quanteda::tokens(afghanistancorpus, remove_punct = TRUE, remove_numbers = TRUE, remove_symbol = TRUE)\n",
    "toks_afg <- tokens_remove(toks_afg, pattern = c(stopwords(\"en\"),stop_words$word))\n",
    "#Stemming the tokens\n",
    "toks_afg<-quanteda::tokens_wordstem(toks_afg)\n",
    "toks_afg$date<-date #adding the date\n",
    "#From tokens to Document feature matrix\n",
    "dfmat_afg<-dfm(toks_afg)"
   ]
  },
  {
   "cell_type": "markdown",
   "metadata": {},
   "source": [
    "**SENTIMENT ANALYSIS**\n",
    "<BR>\n",
    "After having explored and cleaned the text, we want to visualize the evolution of the sentiment in the public discussion about the Afghan situation. To do this, we use the Lexicoder Dictionary, which is considered a good dictionary to analyze political communication:"
   ]
  },
  {
   "cell_type": "code",
   "execution_count": 87,
   "metadata": {},
   "outputs": [],
   "source": [
    "#SENTIMENT ANALYSIS with LSD Dictionary:\n",
    "#selecting only positive and negative categories\n",
    "data_dictionary_LSD2015_pos_neg <- data_dictionary_LSD2015[1:2]\n",
    "toks_afg_lsd <- tokens_lookup(toks_afg, dictionary = data_dictionary_LSD2015_pos_neg)\n",
    "#creating a document DFM and grouping it by day\n",
    "dfmat_afg_lsd <- dfm(toks_afg_lsd) %>% \n",
    "  dfm_group(groups = date)"
   ]
  },
  {
   "cell_type": "code",
   "execution_count": 88,
   "metadata": {},
   "outputs": [
    {
     "data": {
      "image/png": "[encoded data removed]",
      "text/plain": [
       "plot without title"
      ]
     },
     "metadata": {
      "image/png": {
       "height": 420,
       "width": 420
      }
     },
     "output_type": "display_data"
    }
   ],
   "source": [
    "#plotting sentiment evolution over the days:\n",
    "matplot(dfmat_afg_lsd$date, dfmat_afg_lsd, type = \"l\", lty = 1, col = 1:2,\n",
    "        ylab = \"Frequency\", xlab = \"\")\n",
    "grid()\n",
    "legend(\"topleft\", col = 1:2, legend = colnames(dfmat_afg_lsd), lty = 1, bg = \"white\")"
   ]
  },
  {
   "cell_type": "markdown",
   "metadata": {},
   "source": [
    "As we can see from the plot, the frequency of negative words have always been higher than the one of positive words, but in the most recent days, this gap has grown."
   ]
  },
  {
   "cell_type": "markdown",
   "metadata": {},
   "source": [
    "**TOPIC ANALYSIS - LDA**\n",
    "<BR>\n",
    "After having visualized the sentiment of the tweets and its evolution over time, it is interesting to visualize the main topics that characterized the discussion.\n",
    "This can be done through Latent Dirichlet Allocation, which is an unsupervised model which allows to partition the words of our corpus into *k* mutually inclusive clusters of words, which are called topics. Since we have not an exact number of topics in a deterministic sense, to decide this number, we can go through hyperparameter tuning:"
   ]
  },
  {
   "cell_type": "code",
   "execution_count": 89,
   "metadata": {},
   "outputs": [
    {
     "name": "stdout",
     "output_type": "stream",
     "text": [
      "fit models... done.\n",
      "calculate metrics:\n",
      "  Griffiths2004... done.\n",
      "  CaoJuan2009... done.\n",
      "  Arun2010... done.\n",
      "  Deveaud2014... done.\n"
     ]
    },
    {
     "name": "stderr",
     "output_type": "stream",
     "text": [
      "Warning message:\n",
      "\"`guides(<scale> = FALSE)` is deprecated. Please use `guides(<scale> = \"none\")` instead.\"\n"
     ]
    },
    {
     "data": {
      "image/png": "[encoded data removed]",
      "text/plain": [
       "plot without title"
      ]
     },
     "metadata": {
      "image/png": {
       "height": 420,
       "width": 420
      }
     },
     "output_type": "display_data"
    }
   ],
   "source": [
    "#***TOPIC MODELING - LDA***\n",
    "#*Hyperparameter tuning for the optimal number of clusters\n",
    "#Trimming the dfm\n",
    "dfm.trim <- dfm_trim(dfmat_afg, min_termfreq = 2)\n",
    "#Converting the matrix to a topic model object for the tuning\n",
    "dfm2topicmodels <- convert(dfm.trim, to = \"topicmodels\")\n",
    "#Finding the optimal number of models through H. Tuning:\n",
    "ldatuning.metrics <- FindTopicsNumber(dfm2topicmodels, topics = seq(from = 2, to = 15, by = 1), metrics = c(\"Griffiths2004\", \"CaoJuan2009\", \"Arun2010\", \"Deveaud2014\"), method = \"Gibbs\", control = list(seed = 77), mc.cores = 2L, verbose = TRUE\n",
    ")\n",
    "#Plotting to search the best tradeoff\n",
    "FindTopicsNumber_plot(ldatuning.metrics)\n",
    "#Several models have been attempted; the best substantial results were with 6 topics"
   ]
  },
  {
   "cell_type": "markdown",
   "metadata": {},
   "source": [
    "The point in which *maximize* metrics and *minimize* metrics meet in the best way is at the number 6. Hence, let's generate a 6-topics LDA model:"
   ]
  },
  {
   "cell_type": "code",
   "execution_count": 91,
   "metadata": {},
   "outputs": [
    {
     "data": {
      "text/html": [
       "<table class=\"dataframe\">\n",
       "<caption>A matrix: 10 × 6 of type chr</caption>\n",
       "<thead>\n",
       "\t<tr><th scope=col>topic1</th><th scope=col>topic2</th><th scope=col>topic3</th><th scope=col>topic4</th><th scope=col>topic5</th><th scope=col>topic6</th></tr>\n",
       "</thead>\n",
       "<tbody>\n",
       "\t<tr><td>women           </td><td>biden      </td><td>kabul   </td><td>unitedst</td><td>pakistan </td><td>kabul       </td></tr>\n",
       "\t<tr><td>live            </td><td>american   </td><td>report  </td><td>war     </td><td>india    </td><td>evacu       </td></tr>\n",
       "\t<tr><td>peopl           </td><td>unitedst   </td><td>forc    </td><td>militari</td><td>terrorist</td><td>peopl       </td></tr>\n",
       "\t<tr><td>world           </td><td>withdraw   </td><td>panjshir</td><td>america </td><td>countri  </td><td>airport     </td></tr>\n",
       "\t<tr><td>support         </td><td>joebiden   </td><td>citi    </td><td>armi    </td><td>china    </td><td>unitedst    </td></tr>\n",
       "\t<tr><td>sanctionpakistan</td><td>trump      </td><td>presid  </td><td>power   </td><td>refuge   </td><td>thousand    </td></tr>\n",
       "\t<tr><td>countri         </td><td>potunitedst</td><td>leader  </td><td>countri </td><td>support  </td><td>kabulairport</td></tr>\n",
       "\t<tr><td>human           </td><td>troop      </td><td>capit   </td><td>world   </td><td>iran     </td><td>minist      </td></tr>\n",
       "\t<tr><td>right           </td><td>presid     </td><td>captur  </td><td>time    </td><td>russia   </td><td>oper        </td></tr>\n",
       "\t<tr><td>situat          </td><td>crisi      </td><td>provinc </td><td>nato    </td><td>peac     </td><td>militari    </td></tr>\n",
       "</tbody>\n",
       "</table>\n"
      ],
      "text/latex": [
       "A matrix: 10 × 6 of type chr\n",
       "\\begin{tabular}{llllll}\n",
       " topic1 & topic2 & topic3 & topic4 & topic5 & topic6\\\\\n",
       "\\hline\n",
       "\t women            & biden       & kabul    & unitedst & pakistan  & kabul       \\\\\n",
       "\t live             & american    & report   & war      & india     & evacu       \\\\\n",
       "\t peopl            & unitedst    & forc     & militari & terrorist & peopl       \\\\\n",
       "\t world            & withdraw    & panjshir & america  & countri   & airport     \\\\\n",
       "\t support          & joebiden    & citi     & armi     & china     & unitedst    \\\\\n",
       "\t sanctionpakistan & trump       & presid   & power    & refuge    & thousand    \\\\\n",
       "\t countri          & potunitedst & leader   & countri  & support   & kabulairport\\\\\n",
       "\t human            & troop       & capit    & world    & iran      & minist      \\\\\n",
       "\t right            & presid      & captur   & time     & russia    & oper        \\\\\n",
       "\t situat           & crisi       & provinc  & nato     & peac      & militari    \\\\\n",
       "\\end{tabular}\n"
      ],
      "text/markdown": [
       "\n",
       "A matrix: 10 × 6 of type chr\n",
       "\n",
       "| topic1 | topic2 | topic3 | topic4 | topic5 | topic6 |\n",
       "|---|---|---|---|---|---|\n",
       "| women            | biden       | kabul    | unitedst | pakistan  | kabul        |\n",
       "| live             | american    | report   | war      | india     | evacu        |\n",
       "| peopl            | unitedst    | forc     | militari | terrorist | peopl        |\n",
       "| world            | withdraw    | panjshir | america  | countri   | airport      |\n",
       "| support          | joebiden    | citi     | armi     | china     | unitedst     |\n",
       "| sanctionpakistan | trump       | presid   | power    | refuge    | thousand     |\n",
       "| countri          | potunitedst | leader   | countri  | support   | kabulairport |\n",
       "| human            | troop       | capit    | world    | iran      | minist       |\n",
       "| right            | presid      | captur   | time     | russia    | oper         |\n",
       "| situat           | crisi       | provinc  | nato     | peac      | militari     |\n",
       "\n"
      ],
      "text/plain": [
       "      topic1           topic2      topic3   topic4   topic5    topic6      \n",
       " [1,] women            biden       kabul    unitedst pakistan  kabul       \n",
       " [2,] live             american    report   war      india     evacu       \n",
       " [3,] peopl            unitedst    forc     militari terrorist peopl       \n",
       " [4,] world            withdraw    panjshir america  countri   airport     \n",
       " [5,] support          joebiden    citi     armi     china     unitedst    \n",
       " [6,] sanctionpakistan trump       presid   power    refuge    thousand    \n",
       " [7,] countri          potunitedst leader   countri  support   kabulairport\n",
       " [8,] human            troop       capit    world    iran      minist      \n",
       " [9,] right            presid      captur   time     russia    oper        \n",
       "[10,] situat           crisi       provinc  nato     peac      militari    "
      ]
     },
     "metadata": {},
     "output_type": "display_data"
    }
   ],
   "source": [
    "#Final model\n",
    "set.seed(68)\n",
    "tmod_lda6 <- textmodel_lda(dfm.trim, k = 6)\n",
    "seededlda::terms(tmod_lda6, 10)\n",
    "saveRDS(tmod_lda6,\"topicmodel_lda6\")"
   ]
  },
  {
   "cell_type": "markdown",
   "metadata": {},
   "source": [
    "Since the number of topics is quite small, instead of labeling each topic according to the most likely words, we can qualitatively explore the table to give a name to each topic.\n",
    "In the first case, we mainly have words that seem to refer to concerns related to women rights and human rights in general. The name will be *Women & Huamn Rights*.<BR>\n",
    "In the second topic, we have references to the US internal policy (which can refer to the role of the US governments in this war and its end). The name will be *US politics*.<BR>\n",
    "In the third one, references are to Kabul in general (maybe referred to its fall in the war). I name it *Kabul*.<BR>\n",
    "The fourth has references to the US with terms that refers to its army/military force. I name it *US Army*.<BR>\n",
    "In the fifth, we have references to several countries outside Afghanistan, most of them close or bordering to Afghanistn. In this sense, these words seems to refer to the geopolitical context around Afghanistan. The name will be *Geopolitical Context*.<BR>\n",
    "The last topic has instead references to Kabul, but the words seems to refer more to the evacuation from Kabul and from its Airport. The name will be *Kabul evacuation*."
   ]
  },
  {
   "cell_type": "code",
   "execution_count": 95,
   "metadata": {},
   "outputs": [],
   "source": [
    "#Visualizing the topic of the texts\n",
    "modmatr<-data.frame(tmod_lda6$theta)\n",
    "#vectorizing the most likely topic for each tweet according to the THETA parameter\n",
    "topicsrows<-colnames(modmatr)[apply(modmatr,1,which.max)]\n",
    "#assign the most likely topic to each tweet in the original dataset\n",
    "afghanistan$topic <- topicsrows"
   ]
  },
  {
   "cell_type": "code",
   "execution_count": null,
   "metadata": {},
   "outputs": [],
   "source": [
    "#Renaming the topics according to the main concepts\n",
    "afghanistan$topic[afghanistan$topic==\"topic1\"]<- \"Women & Human Rights\"\n",
    "afghanistan$topic[afghanistan$topic==\"topic2\"]<- \"US politics\"\n",
    "afghanistan$topic[afghanistan$topic==\"topic3\"]<- \"Kabul\"\n",
    "afghanistan$topic[afghanistan$topic==\"topic4\"]<- \"US Army\"\n",
    "afghanistan$topic[afghanistan$topic==\"topic5\"]<- \"Geopolitical Context\"\n",
    "afghanistan$topic[afghanistan$topic==\"topic6\"]<- \"Kabul evacuation\""
   ]
  },
  {
   "cell_type": "code",
   "execution_count": 101,
   "metadata": {},
   "outputs": [
    {
     "data": {
      "text/html": [
       "<table class=\"dataframe\">\n",
       "<caption>A data.frame: 6 × 2</caption>\n",
       "<thead>\n",
       "\t<tr><th scope=col>Topic</th><th scope=col>N_tweets</th></tr>\n",
       "\t<tr><th scope=col>&lt;fct&gt;</th><th scope=col>&lt;int&gt;</th></tr>\n",
       "</thead>\n",
       "<tbody>\n",
       "\t<tr><td>Geopolitical Context</td><td>274</td></tr>\n",
       "\t<tr><td>Kabul               </td><td>355</td></tr>\n",
       "\t<tr><td>Kabul evacuation    </td><td>280</td></tr>\n",
       "\t<tr><td>US Army             </td><td>319</td></tr>\n",
       "\t<tr><td>US politics         </td><td>403</td></tr>\n",
       "\t<tr><td>Women &amp; Human Rights</td><td>473</td></tr>\n",
       "</tbody>\n",
       "</table>\n"
      ],
      "text/latex": [
       "A data.frame: 6 × 2\n",
       "\\begin{tabular}{ll}\n",
       " Topic & N\\_tweets\\\\\n",
       " <fct> & <int>\\\\\n",
       "\\hline\n",
       "\t Geopolitical Context & 274\\\\\n",
       "\t Kabul                & 355\\\\\n",
       "\t Kabul evacuation     & 280\\\\\n",
       "\t US Army              & 319\\\\\n",
       "\t US politics          & 403\\\\\n",
       "\t Women \\& Human Rights & 473\\\\\n",
       "\\end{tabular}\n"
      ],
      "text/markdown": [
       "\n",
       "A data.frame: 6 × 2\n",
       "\n",
       "| Topic &lt;fct&gt; | N_tweets &lt;int&gt; |\n",
       "|---|---|\n",
       "| Geopolitical Context | 274 |\n",
       "| Kabul                | 355 |\n",
       "| Kabul evacuation     | 280 |\n",
       "| US Army              | 319 |\n",
       "| US politics          | 403 |\n",
       "| Women &amp; Human Rights | 473 |\n",
       "\n"
      ],
      "text/plain": [
       "  Topic                N_tweets\n",
       "1 Geopolitical Context 274     \n",
       "2 Kabul                355     \n",
       "3 Kabul evacuation     280     \n",
       "4 US Army              319     \n",
       "5 US politics          403     \n",
       "6 Women & Human Rights 473     "
      ]
     },
     "metadata": {},
     "output_type": "display_data"
    }
   ],
   "source": [
    "#Creating a table to show the frequency distribution of the different topics:\n",
    "freqtabtopics <- table(afghanistan$topic)\n",
    "freqtabtopics <- as.data.frame(freqtabtopics)\n",
    "colnames(freqtabtopics) <- c(\"Topic\",\"N_tweets\")\n",
    "freqtabtopics"
   ]
  },
  {
   "cell_type": "code",
   "execution_count": 139,
   "metadata": {},
   "outputs": [
    {
     "data": {
      "image/png": "[encoded data removed]",
      "text/plain": [
       "plot without title"
      ]
     },
     "metadata": {
      "image/png": {
       "height": 480,
       "width": 600
      }
     },
     "output_type": "display_data"
    }
   ],
   "source": [
    "#Plotting the frequency distribution of the topics through a colored bar chart:\n",
    "ggplot(freqtabtopics,aes(reorder(Topic,-N_tweets),N_tweets,fill=Topic))+geom_bar(stat=\"identity\")+\n",
    "  theme(axis.ticks.x = element_blank(), axis.text.x = element_blank())"
   ]
  },
  {
   "cell_type": "markdown",
   "metadata": {},
   "source": [
    "As we can see from this plot, the most represented topic is about Human Rights and Women Rights concerns. Subsequently, we have the US Politics, and then Kabul. \n",
    "\n",
    "Now let's explore the evolution, in terms of frequency, over time, of the topics:"
   ]
  },
  {
   "cell_type": "code",
   "execution_count": 100,
   "metadata": {},
   "outputs": [
    {
     "data": {
      "image/png": "[encoded data removed]",
      "text/plain": [
       "plot without title"
      ]
     },
     "metadata": {
      "image/png": {
       "height": 480,
       "width": 600
      }
     },
     "output_type": "display_data"
    }
   ],
   "source": [
    "#Plotting the evolution over time of the topics\n",
    "#code to improve the visualization\n",
    "options(repr.plot.width=10, repr.plot.height=8)\n",
    "\n",
    "afghanistan %>%\n",
    "  mutate(created_at = lubridate::ymd_hms(created_at), \n",
    "         date = as.Date(created_at)) %>%\n",
    "  count(date, topic) %>%\n",
    "  ggplot(aes(date, n, color = topic)) + geom_line()+\n",
    "  labs(y=\"n° tweets\")\n",
    "\n",
    "\n",
    "#PLOT 5: Plotting the frequency distribution of the topics through a colored bar chart:\n",
    "library(ggplot2)\n",
    "ggplot(freqtabtopics,aes(Topic,N_tweets,fill=Topic))+geom_bar(stat=\"identity\")+\n",
    "  theme(axis.ticks.x = element_blank(), axis.text.x = element_blank())\n",
    "\n"
   ]
  },
  {
   "cell_type": "markdown",
   "metadata": {},
   "source": [
    "By this plot, we can see how the topic \"Women & Human Rights has ad its peak few days after the 16th of August, and than dropped, being overcame by tweets about US Politics"
   ]
  },
  {
   "cell_type": "markdown",
   "metadata": {},
   "source": [
    "# Sources\n",
    "\n",
    "<sup>1</sup> https://mofa.gov.pk/testing-language/\n"
   ]
  },
  {
   "cell_type": "code",
   "execution_count": 65,
   "metadata": {},
   "outputs": [
    {
     "data": {
      "text/html": [
       "210366"
      ],
      "text/latex": [
       "210366"
      ],
      "text/markdown": [
       "210366"
      ],
      "text/plain": [
       "[1] 210366"
      ]
     },
     "metadata": {},
     "output_type": "display_data"
    }
   ],
   "source": [
    "nrow(afghanistan)"
   ]
  },
  {
   "cell_type": "code",
   "execution_count": null,
   "metadata": {},
   "outputs": [],
   "source": []
  }
 ],
 "metadata": {
  "kernelspec": {
   "display_name": "R",
   "language": "R",
   "name": "ir"
  },
  "language_info": {
   "codemirror_mode": "r",
   "file_extension": ".r",
   "mimetype": "text/x-r-source",
   "name": "R",
   "pygments_lexer": "r",
   "version": "4.2.0"
  }
 },
 "nbformat": 4,
 "nbformat_minor": 4
}
